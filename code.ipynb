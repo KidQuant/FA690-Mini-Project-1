{
 "cells": [
  {
   "cell_type": "code",
   "execution_count": 3,
   "metadata": {
    "executionInfo": {
     "elapsed": 18346,
     "status": "ok",
     "timestamp": 1743021000234,
     "user": {
      "displayName": "Swapnil Pant",
      "userId": "14494686106648888031"
     },
     "user_tz": 240
    },
    "id": "p3BPSFHGgRsX"
   },
   "outputs": [],
   "source": [
    "import numpy as np\n",
    "import pandas as pd\n",
    "import os.path as op\n",
    "import os\n",
    "from os import walk\n",
    "import datetime\n",
    "import time\n",
    "\n",
    "from sklearn.metrics import confusion_matrix\n",
    "import seaborn as sns\n",
    "import matplotlib.pyplot as plt\n",
    "import matplotlib.pyplot as plt\n",
    "import torch\n",
    "import torch.nn as nn\n",
    "from torch.utils.data import Dataset\n",
    "from torch.utils.data import DataLoader\n",
    "from torch.utils.data import random_split\n",
    "from tqdm import tqdm\n",
    "from torch.utils.tensorboard import SummaryWriter\n",
    "\n",
    "from sklearn.metrics import f1_score, recall_score, precision_score\n",
    "\n",
    "torch.manual_seed(42)\n",
    "tb = SummaryWriter()\n",
    "\n",
    "os.environ[\"CUDA_VISIBLE_DEVICES\"] = \"0\"\n",
    "\n",
    "IMAGE_WIDTH = {5: 15, 20: 60, 60: 180}\n",
    "IMAGE_HEIGHT = {5: 32, 20: 64, 60: 96}"
   ]
  },
  {
   "cell_type": "code",
   "execution_count": 5,
   "metadata": {
    "colab": {
     "base_uri": "https://localhost:8080/",
     "height": 332
    },
    "executionInfo": {
     "elapsed": 19,
     "status": "error",
     "timestamp": 1743021016945,
     "user": {
      "displayName": "Swapnil Pant",
      "userId": "14494686106648888031"
     },
     "user_tz": 240
    },
    "id": "-E0WR12cgRsY",
    "outputId": "986cdadb-242c-4c2e-b1c9-0f47f3e32390"
   },
   "outputs": [],
   "source": [
    "year = 2017\n",
    "images = np.memmap(\n",
    "    op.join(\"./monthly_20d/monthly_20d\", f\"20d_month_has_vb_[20]_ma_{year}_images.dat\"),\n",
    "    dtype=np.uint8,\n",
    "    mode=\"r\",\n",
    ").reshape((-1, IMAGE_HEIGHT[20], IMAGE_WIDTH[20]))"
   ]
  },
  {
   "cell_type": "code",
   "execution_count": 7,
   "metadata": {
    "colab": {
     "base_uri": "https://localhost:8080/",
     "height": 356
    },
    "executionInfo": {
     "elapsed": 62,
     "status": "error",
     "timestamp": 1743021039567,
     "user": {
      "displayName": "Swapnil Pant",
      "userId": "14494686106648888031"
     },
     "user_tz": 240
    },
    "id": "OmLLmAFpgRsZ",
    "outputId": "4bd4f0b0-0562-4d81-8df7-eb78515e64b3"
   },
   "outputs": [
    {
     "data": {
      "text/html": [
       "<div>\n",
       "<style scoped>\n",
       "    .dataframe tbody tr th:only-of-type {\n",
       "        vertical-align: middle;\n",
       "    }\n",
       "\n",
       "    .dataframe tbody tr th {\n",
       "        vertical-align: top;\n",
       "    }\n",
       "\n",
       "    .dataframe thead th {\n",
       "        text-align: right;\n",
       "    }\n",
       "</style>\n",
       "<table border=\"1\" class=\"dataframe\">\n",
       "  <thead>\n",
       "    <tr style=\"text-align: right;\">\n",
       "      <th></th>\n",
       "      <th>Date</th>\n",
       "      <th>StockID</th>\n",
       "      <th>MarketCap</th>\n",
       "      <th>Ret_5d</th>\n",
       "      <th>Ret_20d</th>\n",
       "      <th>Ret_60d</th>\n",
       "      <th>Ret_month</th>\n",
       "      <th>EWMA_vol</th>\n",
       "    </tr>\n",
       "  </thead>\n",
       "  <tbody>\n",
       "    <tr>\n",
       "      <th>0</th>\n",
       "      <td>2017-01-31</td>\n",
       "      <td>10001</td>\n",
       "      <td>133078.0</td>\n",
       "      <td>4.370390e-07</td>\n",
       "      <td>-0.000002</td>\n",
       "      <td>-0.005954</td>\n",
       "      <td>-0.000002</td>\n",
       "      <td>0.000450</td>\n",
       "    </tr>\n",
       "    <tr>\n",
       "      <th>1</th>\n",
       "      <td>2017-02-28</td>\n",
       "      <td>10001</td>\n",
       "      <td>133078.0</td>\n",
       "      <td>3.951997e-03</td>\n",
       "      <td>0.002795</td>\n",
       "      <td>0.009953</td>\n",
       "      <td>0.009953</td>\n",
       "      <td>0.000180</td>\n",
       "    </tr>\n",
       "    <tr>\n",
       "      <th>2</th>\n",
       "      <td>2017-03-31</td>\n",
       "      <td>10001</td>\n",
       "      <td>133604.0</td>\n",
       "      <td>-7.874612e-03</td>\n",
       "      <td>-0.015749</td>\n",
       "      <td>0.021723</td>\n",
       "      <td>-0.015749</td>\n",
       "      <td>0.000064</td>\n",
       "    </tr>\n",
       "    <tr>\n",
       "      <th>3</th>\n",
       "      <td>2017-04-28</td>\n",
       "      <td>10001</td>\n",
       "      <td>131500.0</td>\n",
       "      <td>9.999880e-03</td>\n",
       "      <td>0.016001</td>\n",
       "      <td>0.038072</td>\n",
       "      <td>0.016001</td>\n",
       "      <td>0.000030</td>\n",
       "    </tr>\n",
       "    <tr>\n",
       "      <th>4</th>\n",
       "      <td>2017-05-31</td>\n",
       "      <td>10001</td>\n",
       "      <td>133604.0</td>\n",
       "      <td>4.370390e-07</td>\n",
       "      <td>0.021722</td>\n",
       "      <td>NaN</td>\n",
       "      <td>0.023703</td>\n",
       "      <td>0.000015</td>\n",
       "    </tr>\n",
       "  </tbody>\n",
       "</table>\n",
       "</div>"
      ],
      "text/plain": [
       "        Date StockID  MarketCap        Ret_5d   Ret_20d   Ret_60d  Ret_month  \\\n",
       "0 2017-01-31   10001   133078.0  4.370390e-07 -0.000002 -0.005954  -0.000002   \n",
       "1 2017-02-28   10001   133078.0  3.951997e-03  0.002795  0.009953   0.009953   \n",
       "2 2017-03-31   10001   133604.0 -7.874612e-03 -0.015749  0.021723  -0.015749   \n",
       "3 2017-04-28   10001   131500.0  9.999880e-03  0.016001  0.038072   0.016001   \n",
       "4 2017-05-31   10001   133604.0  4.370390e-07  0.021722       NaN   0.023703   \n",
       "\n",
       "   EWMA_vol  \n",
       "0  0.000450  \n",
       "1  0.000180  \n",
       "2  0.000064  \n",
       "3  0.000030  \n",
       "4  0.000015  "
      ]
     },
     "execution_count": 7,
     "metadata": {},
     "output_type": "execute_result"
    }
   ],
   "source": [
    "label_df = pd.read_feather(\n",
    "    op.join(\"./monthly_20d/monthly_20d\", f\"20d_month_has_vb_[20]_ma_{year}_labels_w_delay.feather\")\n",
    ")\n",
    "assert len(label_df) == len(images)\n",
    "label_df.head()"
   ]
  },
  {
   "cell_type": "markdown",
   "metadata": {
    "id": "99w_Llc95kTp"
   },
   "source": [
    "## Changing the parameters"
   ]
  },
  {
   "cell_type": "code",
   "execution_count": 9,
   "metadata": {
    "id": "shxa4MIWgRsa"
   },
   "outputs": [],
   "source": [
    "class Net(nn.Module):\n",
    "    def __init__(self):\n",
    "        super().__init__()\n",
    "        self.layer1 = nn.Sequential(\n",
    "            nn.Conv2d(\n",
    "                1,\n",
    "                64,\n",
    "                kernel_size=(5, 3),\n",
    "                stride=(3, 1),\n",
    "                dilation=(2, 1),\n",
    "                padding=(12, 1),\n",
    "            ),\n",
    "            nn.BatchNorm2d(64),\n",
    "            nn.LeakyReLU(negative_slope=0.1, inplace=True),\n",
    "            nn.MaxPool2d((2, 1), stride=(2, 1)),\n",
    "        )\n",
    "        self.layer2 = nn.Sequential(\n",
    "            nn.Conv2d(\n",
    "                64,\n",
    "                128,\n",
    "                kernel_size=(5, 3),\n",
    "                stride=(3, 1),\n",
    "                dilation=(2, 1),\n",
    "                padding=(12, 1),\n",
    "            ),\n",
    "            nn.BatchNorm2d(128),\n",
    "            nn.LeakyReLU(negative_slope=0.01, inplace=True),\n",
    "            nn.MaxPool2d((2, 1), stride=(2, 1)),\n",
    "        )\n",
    "        self.layer3 = nn.Sequential(\n",
    "            nn.Conv2d(\n",
    "                128,\n",
    "                256,\n",
    "                kernel_size=(5, 3),\n",
    "                stride=(3, 1),\n",
    "                dilation=(2, 1),\n",
    "                padding=(12, 1),\n",
    "            ),\n",
    "            nn.BatchNorm2d(256),\n",
    "            nn.LeakyReLU(negative_slope=0.01, inplace=True),\n",
    "            nn.MaxPool2d((2, 1), stride=(2, 1)),\n",
    "        )\n",
    "        self.fc1 = nn.Sequential(\n",
    "            nn.Dropout(p=0.5),\n",
    "            nn.Linear(46080, 2),\n",
    "        )\n",
    "        self.softmax = nn.Softmax(dim=1)\n",
    "\n",
    "    def forward(self, x):\n",
    "        x = x.reshape(-1, 1, 64, 60)\n",
    "        x = self.layer1(x)\n",
    "        x = self.layer2(x)\n",
    "        x = self.layer3(x)\n",
    "        x = x.reshape(-1, 46080)\n",
    "        x = self.fc1(x)\n",
    "        x = self.softmax(x)\n",
    "        return x"
   ]
  },
  {
   "cell_type": "markdown",
   "metadata": {
    "id": "bKXXo1r25tbp"
   },
   "source": [
    "### Model 2\n",
    "Increase Kernel Size"
   ]
  },
  {
   "cell_type": "code",
   "execution_count": 10,
   "metadata": {
    "id": "m4r0c3Am5dXa"
   },
   "outputs": [],
   "source": [
    "class Neta(nn.Module):\n",
    "    def __init__(self):\n",
    "        super().__init__()\n",
    "        self.layer1a = nn.Sequential(\n",
    "            nn.Conv2d(\n",
    "                1,\n",
    "                64,\n",
    "                kernel_size=(7, 5), # Increased kernel size to (7, 5)\n",
    "                stride=(3, 1),\n",
    "                dilation=(2, 1),\n",
    "                padding=(12, 1),\n",
    "            ),\n",
    "            nn.BatchNorm2d(64),\n",
    "            nn.LeakyReLU(negative_slope=0.1, inplace=True),\n",
    "            nn.MaxPool2d((2, 1), stride=(2, 1)),\n",
    "        )\n",
    "        self.layer2a = nn.Sequential(\n",
    "            nn.Conv2d(\n",
    "                64,\n",
    "                128,\n",
    "                kernel_size=(7, 5), # Increased kernel size to (7, 5)\n",
    "                stride=(3, 1),\n",
    "                dilation=(2, 1),\n",
    "                padding=(12, 1),\n",
    "            ),\n",
    "            nn.BatchNorm2d(128),\n",
    "            nn.LeakyReLU(negative_slope=0.01, inplace=True),\n",
    "            nn.MaxPool2d((2, 1), stride=(2, 1)),\n",
    "        )\n",
    "        self.layer3a = nn.Sequential(\n",
    "            nn.Conv2d(\n",
    "                128,\n",
    "                256,\n",
    "                kernel_size=(7, 5), # Increased kernel size to (7, 5)\n",
    "                stride=(3, 1),\n",
    "                dilation=(2, 1),\n",
    "                padding=(12, 1),\n",
    "            ),\n",
    "            nn.BatchNorm2d(256),\n",
    "            nn.LeakyReLU(negative_slope=0.01, inplace=True),\n",
    "            nn.MaxPool2d((2, 1), stride=(2, 1)),\n",
    "        )\n",
    "        self.fc1a = nn.Sequential(\n",
    "            nn.Dropout(p=0.5),\n",
    "            nn.Linear(46080, 2),\n",
    "        )\n",
    "        self.softmax = nn.Softmax(dim=1)\n",
    "\n",
    "    def forward(self, x):\n",
    "        x = x.reshape(-1, 1, 64, 60)\n",
    "        x = self.layer1(x)\n",
    "        x = self.layer2(x)\n",
    "        x = self.layer3(x)\n",
    "        x = x.reshape(-1, 46080)\n",
    "        x = self.fc1(x)\n",
    "        x = self.softmax(x)\n",
    "        return x"
   ]
  },
  {
   "cell_type": "markdown",
   "metadata": {
    "id": "WdjLyvZI5_Oh"
   },
   "source": [
    "### Model 3\n",
    "Decreased Kernel Size"
   ]
  },
  {
   "cell_type": "code",
   "execution_count": 11,
   "metadata": {
    "id": "zgHQ3CoD1eFE"
   },
   "outputs": [],
   "source": [
    "\n",
    "class Netb(nn.Module):\n",
    "    def __init__(self):\n",
    "        super().__init__()\n",
    "        self.layer1b = nn.Sequential(\n",
    "            nn.Conv2d(\n",
    "                1,\n",
    "                64,\n",
    "                kernel_size=(3, 3), # Decreased kernel size to (3, 3)\n",
    "                stride=(3, 1),\n",
    "                dilation=(2, 1),\n",
    "                padding=(12, 1),\n",
    "            ),\n",
    "            nn.BatchNorm2d(64),\n",
    "            nn.LeakyReLU(negative_slope=0.1, inplace=True),\n",
    "            nn.MaxPool2d((2, 1), stride=(2, 1)),\n",
    "        )\n",
    "        self.layer2b = nn.Sequential(\n",
    "            nn.Conv2d(\n",
    "                64,\n",
    "                128,\n",
    "                kernel_size=(3, 3), # Decreased kernel size to (3, 3)\n",
    "                stride=(3, 1),\n",
    "                dilation=(2, 1),\n",
    "                padding=(12, 1),\n",
    "            ),\n",
    "            nn.BatchNorm2d(128),\n",
    "            nn.LeakyReLU(negative_slope=0.01, inplace=True),\n",
    "            nn.MaxPool2d((2, 1), stride=(2, 1)),\n",
    "        )\n",
    "        self.layer3b = nn.Sequential(\n",
    "            nn.Conv2d(\n",
    "                128,\n",
    "                256,\n",
    "                kernel_size=(3, 3), # Decreased kernel size to (3, 3)\n",
    "                stride=(3, 1),\n",
    "                dilation=(2, 1),\n",
    "                padding=(12, 1),\n",
    "            ),\n",
    "            nn.BatchNorm2d(256),\n",
    "            nn.LeakyReLU(negative_slope=0.01, inplace=True),\n",
    "            nn.MaxPool2d((2, 1), stride=(2, 1)),\n",
    "        )\n",
    "        self.fc2 = nn.Sequential(\n",
    "            nn.Dropout(p=0.5),\n",
    "            nn.Linear(46080, 2),\n",
    "        )\n",
    "        self.softmax = nn.Softmax(dim=1)\n",
    "\n",
    "    def forward(self, x):\n",
    "        x = x.reshape(-1, 1, 64, 60)\n",
    "        x = self.layer1(x)\n",
    "        x = self.layer2(x)\n",
    "        x = self.layer3(x)\n",
    "        x = x.reshape(-1, 46080)\n",
    "        x = self.fc1(x)\n",
    "        x = self.softmax(x)\n",
    "        return x"
   ]
  },
  {
   "cell_type": "markdown",
   "metadata": {
    "id": "Vc2IiDKS6d-A"
   },
   "source": [
    "### Model 4\n",
    "Increased Neagtive Slope of Leaky ReLU"
   ]
  },
  {
   "cell_type": "code",
   "execution_count": 12,
   "metadata": {
    "id": "hvg2IWJi6bUB"
   },
   "outputs": [],
   "source": [
    "class Netc(nn.Module):\n",
    "    def __init__(self):\n",
    "        super().__init__()\n",
    "        self.layer1c = nn.Sequential(\n",
    "            nn.Conv2d(\n",
    "                1,\n",
    "                64,\n",
    "                kernel_size=(5, 3),\n",
    "                stride=(3, 1),\n",
    "                dilation=(2, 1),\n",
    "                padding=(12, 1),\n",
    "            ),\n",
    "            nn.BatchNorm2d(64),\n",
    "            nn.LeakyReLU(negative_slope=0.1, inplace=True),\n",
    "            nn.MaxPool2d((2, 1), stride=(2, 1)),\n",
    "        )\n",
    "        self.layer2c = nn.Sequential(\n",
    "            nn.Conv2d(\n",
    "                64,\n",
    "                128,\n",
    "                kernel_size=(5, 3),\n",
    "                stride=(3, 1),\n",
    "                dilation=(2, 1),\n",
    "                padding=(12, 1),\n",
    "            ),\n",
    "            nn.BatchNorm2d(128),\n",
    "            nn.LeakyReLU(negative_slope=0.05, inplace=True), # Increased negative slope from 0.01 to 0.05\n",
    "            nn.MaxPool2d((2, 1), stride=(2, 1)),\n",
    "        )\n",
    "        self.layer3c = nn.Sequential(\n",
    "            nn.Conv2d(\n",
    "                128,\n",
    "                256,\n",
    "                kernel_size=(5, 3),\n",
    "                stride=(3, 1),\n",
    "                dilation=(2, 1),\n",
    "                padding=(12, 1),\n",
    "            ),\n",
    "            nn.BatchNorm2d(256),\n",
    "            nn.LeakyReLU(negative_slope=0.05, inplace=True), # Increased negative slope from 0.01 to 0.05\n",
    "            nn.MaxPool2d((2, 1), stride=(2, 1)),\n",
    "        )\n",
    "        self.fc1c = nn.Sequential(\n",
    "            nn.Dropout(p=0.5),\n",
    "            nn.Linear(46080, 2),\n",
    "        )\n",
    "        self.softmax = nn.Softmax(dim=1)\n",
    "\n",
    "    def forward(self, x):\n",
    "        x = x.reshape(-1, 1, 64, 60)\n",
    "        x = self.layer1(x)\n",
    "        x = self.layer2(x)\n",
    "        x = self.layer3(x)\n",
    "        x = x.reshape(-1, 46080)\n",
    "        x = self.fc1(x)\n",
    "        x = self.softmax(x)\n",
    "        return x"
   ]
  },
  {
   "cell_type": "markdown",
   "metadata": {
    "id": "G-wYXCxE6flZ"
   },
   "source": [
    "### Model 5\n",
    "Decreased Negative Slope of Leaky ReLU"
   ]
  },
  {
   "cell_type": "code",
   "execution_count": 13,
   "metadata": {
    "id": "hbWU0thc6byx"
   },
   "outputs": [],
   "source": [
    "class Netd(nn.Module):\n",
    "    def __init__(self):\n",
    "        super().__init__()\n",
    "        self.layer1d = nn.Sequential(\n",
    "            nn.Conv2d(\n",
    "                1,\n",
    "                64,\n",
    "                kernel_size=(5, 3),\n",
    "                stride=(3, 1),\n",
    "                dilation=(2, 1),\n",
    "                padding=(12, 1),\n",
    "            ),\n",
    "            nn.BatchNorm2d(64),\n",
    "            nn.LeakyReLU(negative_slope=0.1, inplace=True),\n",
    "            nn.MaxPool2d((2, 1), stride=(2, 1)),\n",
    "        )\n",
    "        self.layer2d = nn.Sequential(\n",
    "            nn.Conv2d(\n",
    "                64,\n",
    "                128,\n",
    "                kernel_size=(5, 3),\n",
    "                stride=(3, 1),\n",
    "                dilation=(2, 1),\n",
    "                padding=(12, 1),\n",
    "            ),\n",
    "            nn.BatchNorm2d(128),\n",
    "            nn.LeakyReLU(negative_slope=0.005, inplace=True), # Decreased negative slope to 0.005\n",
    "            nn.MaxPool2d((2, 1), stride=(2, 1)),\n",
    "        )\n",
    "        self.layer3d = nn.Sequential(\n",
    "            nn.Conv2d(\n",
    "                128,\n",
    "                256,\n",
    "                kernel_size=(5, 3),\n",
    "                stride=(3, 1),\n",
    "                dilation=(2, 1),\n",
    "                padding=(12, 1),\n",
    "            ),\n",
    "            nn.BatchNorm2d(256),\n",
    "            nn.LeakyReLU(negative_slope=0.005, inplace=True), # Decreased negative slope to 0.005\n",
    "            nn.MaxPool2d((2, 1), stride=(2, 1)),\n",
    "        )\n",
    "        self.fc1d = nn.Sequential(\n",
    "            nn.Dropout(p=0.5),\n",
    "            nn.Linear(46080, 2),\n",
    "        )\n",
    "        self.softmax = nn.Softmax(dim=1)\n",
    "\n",
    "    def forward(self, x):\n",
    "        x = x.reshape(-1, 1, 64, 60)\n",
    "        x = self.layer1(x)\n",
    "        x = self.layer2(x)\n",
    "        x = self.layer3(x)\n",
    "        x = x.reshape(-1, 46080)\n",
    "        x = self.fc1(x)\n",
    "        x = self.softmax(x)\n",
    "        return x"
   ]
  },
  {
   "cell_type": "code",
   "execution_count": 14,
   "metadata": {
    "colab": {
     "base_uri": "https://localhost:8080/",
     "height": 193
    },
    "executionInfo": {
     "elapsed": 36,
     "status": "error",
     "timestamp": 1743011698163,
     "user": {
      "displayName": "Daiki Ishiyama",
      "userId": "15368929361750267003"
     },
     "user_tz": 240
    },
    "id": "waDvnQNmgRsa",
    "outputId": "5da110db-00c0-492a-c2d1-a0d167b7264f"
   },
   "outputs": [],
   "source": [
    "x = torch.Tensor(images[42].copy())\n",
    "x = x.reshape(-1, 1, 64, 60)\n",
    "x.requires_grad = True\n",
    "baseline = torch.zeros_like(x)"
   ]
  },
  {
   "cell_type": "code",
   "execution_count": 15,
   "metadata": {
    "id": "ERO_cAcrgRsa",
    "outputId": "8e249359-b840-4838-d749-f2ab07872b92"
   },
   "outputs": [
    {
     "name": "stdout",
     "output_type": "stream",
     "text": [
      "0\n"
     ]
    },
    {
     "data": {
      "image/png": "[encoded data removed]",
      "text/plain": [
       "<Figure size 640x480 with 1 Axes>"
      ]
     },
     "metadata": {},
     "output_type": "display_data"
    },
    {
     "name": "stdout",
     "output_type": "stream",
     "text": [
      "1\n"
     ]
    },
    {
     "data": {
      "image/png": "[encoded data removed]",
      "text/plain": [
       "<Figure size 640x480 with 1 Axes>"
      ]
     },
     "metadata": {},
     "output_type": "display_data"
    },
    {
     "name": "stdout",
     "output_type": "stream",
     "text": [
      "2\n"
     ]
    },
    {
     "data": {
      "image/png": "[encoded data removed]",
      "text/plain": [
       "<Figure size 640x480 with 1 Axes>"
      ]
     },
     "metadata": {},
     "output_type": "display_data"
    },
    {
     "name": "stdout",
     "output_type": "stream",
     "text": [
      "3\n"
     ]
    },
    {
     "data": {
      "image/png": "[encoded data removed]",
      "text/plain": [
       "<Figure size 640x480 with 1 Axes>"
      ]
     },
     "metadata": {},
     "output_type": "display_data"
    },
    {
     "name": "stdout",
     "output_type": "stream",
     "text": [
      "4\n"
     ]
    },
    {
     "data": {
      "image/png": "[encoded data removed]",
      "text/plain": [
       "<Figure size 640x480 with 1 Axes>"
      ]
     },
     "metadata": {},
     "output_type": "display_data"
    }
   ],
   "source": [
    "import matplotlib.pyplot as plt\n",
    "\n",
    "for i in range(5):\n",
    "    print(i)\n",
    "    plt.imshow(images[i], cmap=\"gray\")\n",
    "    plt.show()"
   ]
  },
  {
   "cell_type": "code",
   "execution_count": 16,
   "metadata": {
    "id": "4fKbkIQ-gRsb",
    "outputId": "fe981a46-d4d9-4a0f-c0af-50bfb7c9ef11"
   },
   "outputs": [
    {
     "data": {
      "text/html": [
       "<div>\n",
       "<style scoped>\n",
       "    .dataframe tbody tr th:only-of-type {\n",
       "        vertical-align: middle;\n",
       "    }\n",
       "\n",
       "    .dataframe tbody tr th {\n",
       "        vertical-align: top;\n",
       "    }\n",
       "\n",
       "    .dataframe thead th {\n",
       "        text-align: right;\n",
       "    }\n",
       "</style>\n",
       "<table border=\"1\" class=\"dataframe\">\n",
       "  <thead>\n",
       "    <tr style=\"text-align: right;\">\n",
       "      <th></th>\n",
       "      <th>Date</th>\n",
       "      <th>StockID</th>\n",
       "      <th>MarketCap</th>\n",
       "      <th>Ret_5d</th>\n",
       "      <th>Ret_20d</th>\n",
       "      <th>Ret_60d</th>\n",
       "      <th>Ret_month</th>\n",
       "      <th>EWMA_vol</th>\n",
       "    </tr>\n",
       "  </thead>\n",
       "  <tbody>\n",
       "    <tr>\n",
       "      <th>0</th>\n",
       "      <td>2017-01-31</td>\n",
       "      <td>10001</td>\n",
       "      <td>133078.0</td>\n",
       "      <td>4.370390e-07</td>\n",
       "      <td>-0.000002</td>\n",
       "      <td>-0.005954</td>\n",
       "      <td>-0.000002</td>\n",
       "      <td>0.000450</td>\n",
       "    </tr>\n",
       "    <tr>\n",
       "      <th>1</th>\n",
       "      <td>2017-02-28</td>\n",
       "      <td>10001</td>\n",
       "      <td>133078.0</td>\n",
       "      <td>3.951997e-03</td>\n",
       "      <td>0.002795</td>\n",
       "      <td>0.009953</td>\n",
       "      <td>0.009953</td>\n",
       "      <td>0.000180</td>\n",
       "    </tr>\n",
       "    <tr>\n",
       "      <th>2</th>\n",
       "      <td>2017-03-31</td>\n",
       "      <td>10001</td>\n",
       "      <td>133604.0</td>\n",
       "      <td>-7.874612e-03</td>\n",
       "      <td>-0.015749</td>\n",
       "      <td>0.021723</td>\n",
       "      <td>-0.015749</td>\n",
       "      <td>0.000064</td>\n",
       "    </tr>\n",
       "    <tr>\n",
       "      <th>3</th>\n",
       "      <td>2017-04-28</td>\n",
       "      <td>10001</td>\n",
       "      <td>131500.0</td>\n",
       "      <td>9.999880e-03</td>\n",
       "      <td>0.016001</td>\n",
       "      <td>0.038072</td>\n",
       "      <td>0.016001</td>\n",
       "      <td>0.000030</td>\n",
       "    </tr>\n",
       "    <tr>\n",
       "      <th>4</th>\n",
       "      <td>2017-05-31</td>\n",
       "      <td>10001</td>\n",
       "      <td>133604.0</td>\n",
       "      <td>4.370390e-07</td>\n",
       "      <td>0.021722</td>\n",
       "      <td>NaN</td>\n",
       "      <td>0.023703</td>\n",
       "      <td>0.000015</td>\n",
       "    </tr>\n",
       "  </tbody>\n",
       "</table>\n",
       "</div>"
      ],
      "text/plain": [
       "        Date StockID  MarketCap        Ret_5d   Ret_20d   Ret_60d  Ret_month  \\\n",
       "0 2017-01-31   10001   133078.0  4.370390e-07 -0.000002 -0.005954  -0.000002   \n",
       "1 2017-02-28   10001   133078.0  3.951997e-03  0.002795  0.009953   0.009953   \n",
       "2 2017-03-31   10001   133604.0 -7.874612e-03 -0.015749  0.021723  -0.015749   \n",
       "3 2017-04-28   10001   131500.0  9.999880e-03  0.016001  0.038072   0.016001   \n",
       "4 2017-05-31   10001   133604.0  4.370390e-07  0.021722       NaN   0.023703   \n",
       "\n",
       "   EWMA_vol  \n",
       "0  0.000450  \n",
       "1  0.000180  \n",
       "2  0.000064  \n",
       "3  0.000030  \n",
       "4  0.000015  "
      ]
     },
     "execution_count": 16,
     "metadata": {},
     "output_type": "execute_result"
    }
   ],
   "source": [
    "label_df.head()"
   ]
  },
  {
   "cell_type": "code",
   "execution_count": 17,
   "metadata": {
    "id": "NuvEf-f5gRsb",
    "outputId": "ce4b35ad-708e-43cc-ae54-178694d86f97"
   },
   "outputs": [
    {
     "name": "stdout",
     "output_type": "stream",
     "text": [
      "(1787748, 64, 60)\n",
      "(1787748, 8)\n"
     ]
    }
   ],
   "source": [
    "year_list = np.arange(1993, 2014, 1)\n",
    "\n",
    "images = []\n",
    "label_df = []\n",
    "for year in year_list:\n",
    "    images.append(\n",
    "        np.memmap(\n",
    "            op.join(\"./monthly_20d/monthly_20d\", f\"20d_month_has_vb_[20]_ma_{year}_images.dat\"),\n",
    "            dtype=np.uint8,\n",
    "            mode=\"r\",\n",
    "        ).reshape((-1, IMAGE_HEIGHT[20], IMAGE_WIDTH[20]))\n",
    "    )\n",
    "    label_df.append(\n",
    "        pd.read_feather(\n",
    "            op.join(\n",
    "                \"./monthly_20d/monthly_20d\",\n",
    "                f\"20d_month_has_vb_[20]_ma_{year}_labels_w_delay.feather\",\n",
    "            )\n",
    "        )\n",
    "    )\n",
    "\n",
    "images = np.concatenate(images)\n",
    "label_df = pd.concat(label_df)\n",
    "\n",
    "print(images.shape)\n",
    "print(label_df.shape)"
   ]
  },
  {
   "cell_type": "code",
   "execution_count": 18,
   "metadata": {
    "id": "CaPTzuycgRsb"
   },
   "outputs": [],
   "source": [
    "class MyDataset(Dataset):\n",
    "\n",
    "    def __init__(self, img, label):\n",
    "        self.img = torch.Tensor(img.copy())\n",
    "        self.label = torch.Tensor(label)\n",
    "        self.len = len(img)\n",
    "\n",
    "    def __len__(self):\n",
    "        return self.len\n",
    "\n",
    "    def __getitem__(self, idx):\n",
    "        return self.img[idx], self.label[idx]"
   ]
  },
  {
   "cell_type": "code",
   "execution_count": 19,
   "metadata": {
    "id": "fjXscLU8gRsc"
   },
   "outputs": [],
   "source": [
    "use_gpu = True\n",
    "use_random_split = False\n",
    "use_dataparallel = True\n",
    "\n",
    "if not use_random_split:\n",
    "    train_val_ratio = 0.7\n",
    "    split_idx = int(images.shape[0] * 0.7)\n",
    "    train_dataset = MyDataset(\n",
    "        images[:split_idx], (label_df.Ret_5d > 0).values[:split_idx]\n",
    "    )\n",
    "    val_dataset = MyDataset(\n",
    "        images[split_idx:], (label_df.Ret_5d > 0).values[split_idx:]\n",
    "    )\n",
    "else:\n",
    "    dataset = MyDataset(images, (label_df.Ret_5d > 0).values)\n",
    "    train_val_ratio = 0.7\n",
    "    train_dataset, val_dataset = random_split(\n",
    "        dataset,\n",
    "        [\n",
    "            int(dataset.len * train_val_ratio),\n",
    "            dataset.len - int(dataset.len * train_val_ratio),\n",
    "        ],\n",
    "        generator=torch.Generator().manual_seed(42),\n",
    "    )\n",
    "    del dataset\n",
    "\n",
    "train_dataloader = DataLoader(\n",
    "    train_dataset, batch_size=128, shuffle=True, pin_memory=True\n",
    ")\n",
    "val_dataloader = DataLoader(val_dataset, batch_size=128, shuffle=True, pin_memory=True)"
   ]
  },
  {
   "cell_type": "code",
   "execution_count": 20,
   "metadata": {
    "id": "qR_t9oZbgRsc"
   },
   "outputs": [],
   "source": [
    "def init_weights(m):\n",
    "    if isinstance(m, nn.Linear):\n",
    "        torch.nn.init.xavier_uniform_(m.weight)\n",
    "        m.bias.data.fill_(0.0)\n",
    "    elif isinstance(m, nn.Conv2d):\n",
    "        torch.nn.init.xavier_uniform_(m.weight)"
   ]
  },
  {
   "cell_type": "code",
   "execution_count": 23,
   "metadata": {},
   "outputs": [
    {
     "name": "stdout",
     "output_type": "stream",
     "text": [
      "2.6.0+cpu\n",
      "None\n"
     ]
    }
   ],
   "source": [
    "import torch\n",
    "print(torch.__version__)\n",
    "print(torch.version.cuda)\n"
   ]
  },
  {
   "cell_type": "code",
   "execution_count": 26,
   "metadata": {
    "id": "VUMjXo_QgRsc"
   },
   "outputs": [
    {
     "ename": "AssertionError",
     "evalue": "CUDA is not available or use_gpu is False!",
     "output_type": "error",
     "traceback": [
      "\u001b[31m---------------------------------------------------------------------------\u001b[39m",
      "\u001b[31mAssertionError\u001b[39m                            Traceback (most recent call last)",
      "\u001b[36mCell\u001b[39m\u001b[36m \u001b[39m\u001b[32mIn[26]\u001b[39m\u001b[32m, line 1\u001b[39m\n\u001b[32m----> \u001b[39m\u001b[32m1\u001b[39m \u001b[38;5;28;01massert\u001b[39;00m torch.cuda.is_available() \u001b[38;5;129;01mand\u001b[39;00m use_gpu, \u001b[33m\"\u001b[39m\u001b[33mCUDA is not available or use_gpu is False!\u001b[39m\u001b[33m\"\u001b[39m\n\u001b[32m      2\u001b[39m device = \u001b[33m\"\u001b[39m\u001b[33mcuda\u001b[39m\u001b[33m\"\u001b[39m\n\u001b[32m      3\u001b[39m export_onnx = \u001b[38;5;28;01mTrue\u001b[39;00m\n",
      "\u001b[31mAssertionError\u001b[39m: CUDA is not available or use_gpu is False!"
     ]
    }
   ],
   "source": [
    "assert torch.cuda.is_available() and use_gpu, \"CUDA is not available or use_gpu is False!\"\n",
    "device = \"cuda\"\n",
    "export_onnx = True\n",
    "net = Net().to(device)\n",
    "net.apply(init_weights)\n",
    "\n",
    "if export_onnx:\n",
    "    import torch.onnx\n",
    "\n",
    "    x = torch.randn([1, 1, 64, 60]).to(device)\n",
    "    torch.onnx.export(\n",
    "        net,\n",
    "        x,\n",
    "        \"./cnn_baseline.onnx\",\n",
    "        export_params=False,\n",
    "        opset_version=10,\n",
    "        do_constant_folding=False,\n",
    "        input_names=[\"input_images\"],\n",
    "        output_names=[\"output_prob\"],\n",
    "        dynamic_axes={\n",
    "            \"input_images\": {0: \"batch_size\"},\n",
    "            \"output_prob\": {0: \"batch_size\"},\n",
    "        },\n",
    "    )"
   ]
  },
  {
   "cell_type": "code",
   "execution_count": 24,
   "metadata": {
    "id": "uPZUQNC8gRsc",
    "outputId": "47bcf191-457a-4f41-ddf5-6ff98bb4f7b8"
   },
   "outputs": [
    {
     "ename": "NameError",
     "evalue": "name 'net' is not defined",
     "output_type": "error",
     "traceback": [
      "\u001b[31m---------------------------------------------------------------------------\u001b[39m",
      "\u001b[31mNameError\u001b[39m                                 Traceback (most recent call last)",
      "\u001b[36mCell\u001b[39m\u001b[36m \u001b[39m\u001b[32mIn[24]\u001b[39m\u001b[32m, line 2\u001b[39m\n\u001b[32m      1\u001b[39m count = \u001b[32m0\u001b[39m\n\u001b[32m----> \u001b[39m\u001b[32m2\u001b[39m \u001b[38;5;28;01mfor\u001b[39;00m names, parameters \u001b[38;5;129;01min\u001b[39;00m \u001b[43mnet\u001b[49m.named_parameters():\n\u001b[32m      3\u001b[39m     \u001b[38;5;28mprint\u001b[39m(names, parameters.size())\n\u001b[32m      4\u001b[39m     count += parameters.numel()\n",
      "\u001b[31mNameError\u001b[39m: name 'net' is not defined"
     ]
    }
   ],
   "source": [
    "count = 0\n",
    "for names, parameters in net.named_parameters():\n",
    "    print(names, parameters.size())\n",
    "    count += parameters.numel()\n",
    "print(\"total_parameters: {}\".format(count))"
   ]
  },
  {
   "cell_type": "code",
   "execution_count": null,
   "metadata": {
    "id": "v_29rGAygRsd"
   },
   "outputs": [],
   "source": [
    "def train_loop(dataloader, net, loss_fn, optimizer):\n",
    "\n",
    "    running_loss = 0.0\n",
    "    current = 0\n",
    "    net.train()\n",
    "\n",
    "    with tqdm(dataloader) as t:\n",
    "        for batch, (X, y) in enumerate(t):\n",
    "            X = X.to(device)\n",
    "            y = y.to(device)\n",
    "            y_pred = net(X)\n",
    "            loss = loss_fn(y_pred, y.long())\n",
    "\n",
    "            optimizer.zero_grad()\n",
    "            loss.backward()\n",
    "            optimizer.step()\n",
    "\n",
    "            running_loss = (len(X) * loss.item() + running_loss * current) / (\n",
    "                len(X) + current\n",
    "            )\n",
    "            current += len(X)\n",
    "            t.set_postfix({\"running_loss\": running_loss})\n",
    "\n",
    "    return running_loss"
   ]
  },
  {
   "cell_type": "code",
   "execution_count": null,
   "metadata": {
    "id": "KnnL7KU1gRsd"
   },
   "outputs": [],
   "source": [
    "def val_loop(dataloader, net, loss_fn):\n",
    "    running_loss = 0.0\n",
    "    current = 0\n",
    "    net.eval()\n",
    "\n",
    "    with torch.no_grad():\n",
    "        with tqdm(dataloader) as t:\n",
    "            for batch, (X, y) in enumerate(t):\n",
    "                X = X.to(device)\n",
    "                y = y.to(device)\n",
    "                y_pred = net(X)\n",
    "                loss = loss_fn(y_pred, y.long())\n",
    "\n",
    "                running_loss += loss.item()\n",
    "                running_loss = (len(X) * running_loss + loss.item() * current) / (\n",
    "                    len(X) + current\n",
    "                )\n",
    "                current += len(X)\n",
    "                t.set_postfix({\"running_loss\": running_loss})\n",
    "\n",
    "    return running_loss"
   ]
  },
  {
   "cell_type": "code",
   "execution_count": null,
   "metadata": {
    "id": "qmKJQjbAgRsd"
   },
   "outputs": [],
   "source": [
    "if use_gpu and use_dataparallel and \"DataParallel\" not in str(type(net)):\n",
    "    net = net.to(device)\n",
    "    net = nn.DataParallel(net)"
   ]
  },
  {
   "cell_type": "code",
   "execution_count": null,
   "metadata": {
    "id": "K_-HbqyBgRsd"
   },
   "outputs": [],
   "source": [
    "loss_fn = nn.CrossEntropyLoss()\n",
    "optimizer = torch.optim.Adam(net.parameters(), lr=1e-5)\n",
    "\n",
    "start_epoch = 0\n",
    "min_val_loss = 1e9\n",
    "last_min_ind = -1\n",
    "early_stopping_epoch = 5"
   ]
  },
  {
   "cell_type": "code",
   "execution_count": null,
   "metadata": {
    "id": "IIF57JghgRsd",
    "outputId": "57bb7ab8-3b1d-4a81-c06a-99547518283f"
   },
   "outputs": [],
   "source": [
    "# Before your training loop, create lists to store the loss values\n",
    "train_losses = []\n",
    "val_losses = []\n",
    "\n",
    "# Modify the main training loop\n",
    "start_time = datetime.datetime.now().strftime(\"%Y%m%d_%H:%M:%S\")\n",
    "directory_path = \"./pt/{}\".format(start_time.replace(\":\", \"-\"))\n",
    "os.makedirs(directory_path)\n",
    "\n",
    "epochs = 100\n",
    "for t in range(start_epoch, epochs):\n",
    "    print(f\"Epoch {t}\\n-------------------------------\")\n",
    "    time.sleep(0.2)\n",
    "    train_loss = train_loop(train_dataloader, net, loss_fn, optimizer)\n",
    "    val_loss = val_loop(val_dataloader, net, loss_fn)\n",
    "\n",
    "    # Append the losses to our tracking lists\n",
    "    train_losses.append(train_loss)\n",
    "    val_losses.append(val_loss)\n",
    "\n",
    "    # The rest of your existing code\n",
    "    tb.add_histogram(\"train_loss\", train_loss, t)\n",
    "    torch.save(\n",
    "        net,\n",
    "        \"./pt\"\n",
    "        + os.sep\n",
    "        + start_time.replace(\":\", \"-\")\n",
    "        + os.sep\n",
    "        + \"baseline_epoch_{}_train_{:5f}_val_{:5f}.pt\".format(t, train_loss, val_loss),\n",
    "    )\n",
    "    if val_loss < min_val_loss:\n",
    "        last_min_ind = t\n",
    "        min_val_loss = val_loss\n",
    "        min_val_loss_path = './pt/{}'.format(start_time.replace(\":\", \"-\"))\n",
    "    elif t - last_min_ind >= early_stopping_epoch:\n",
    "        break\n",
    "\n",
    "print(\"Done!\")\n",
    "print(\"Best epoch: {}, val_loss: {}\".format(last_min_ind, min_val_loss))\n",
    "\n"
   ]
  },
  {
   "cell_type": "code",
   "execution_count": null,
   "metadata": {
    "id": "5uNvAts4gRsd",
    "outputId": "ba1a368e-e341-4032-ad00-73f63b3d9818"
   },
   "outputs": [],
   "source": [
    "# Add this after the training loop to create the visualization\n",
    "plt.figure(figsize=(10, 6))\n",
    "plt.plot(range(len(train_losses)), train_losses, label='Training Loss')\n",
    "plt.plot(range(len(val_losses)), val_losses, label='Validation Loss')\n",
    "plt.xlabel('Epochs')\n",
    "plt.ylabel('Loss')\n",
    "# plt.title('Training and Validation Loss Over Time')\n",
    "plt.legend()\n",
    "plt.grid(True)\n",
    "plt.savefig(f\"{directory_path}/loss_curve.png\")  # Save the figure to the same directory as model checkpoints\n",
    "plt.show()"
   ]
  },
  {
   "cell_type": "markdown",
   "metadata": {
    "id": "lh8Tl2-_gRsd"
   },
   "source": [
    "## Testing"
   ]
  },
  {
   "cell_type": "code",
   "execution_count": null,
   "metadata": {
    "id": "G7uxJNgygRse",
    "outputId": "7b32375a-0c94-44b1-e5e4-235c2b8fc292"
   },
   "outputs": [],
   "source": [
    "year_list = np.arange(2015, 2019, 1)\n",
    "\n",
    "images = []\n",
    "label_df = []\n",
    "\n",
    "for year in year_list:\n",
    "    images.append(\n",
    "        np.memmap(\n",
    "            op.join(\"./monthly_20d\", f\"20d_month_has_vb_[20]_ma_{year}_images.dat\"),\n",
    "            dtype=np.uint8,\n",
    "            mode=\"r\",\n",
    "        ).reshape((-1, IMAGE_HEIGHT[20], IMAGE_WIDTH[20]))\n",
    "    )\n",
    "    label_df.append(\n",
    "        pd.read_feather(\n",
    "            op.join(\n",
    "                \"./monthly_20d\",\n",
    "                f\"20d_month_has_vb_[20]_ma_{year}_labels_w_delay.feather\",\n",
    "            )\n",
    "        )\n",
    "    )\n",
    "\n",
    "images = np.concatenate(images)\n",
    "label_df = pd.concat(label_df)\n",
    "\n",
    "print(images.shape)\n",
    "print(label_df.shape)"
   ]
  },
  {
   "cell_type": "code",
   "execution_count": null,
   "metadata": {
    "id": "VlJ43yUkgRse"
   },
   "outputs": [],
   "source": [
    "dataset = MyDataset(images, (label_df.Ret_5d > 0).values)\n",
    "test_dataloader = DataLoader(dataset, batch_size=2048, shuffle=False)"
   ]
  },
  {
   "cell_type": "code",
   "execution_count": null,
   "metadata": {
    "id": "9vO7dcT7gRse"
   },
   "outputs": [],
   "source": [
    "net_path = \"pt/20250325_11-56-14/baseline_epoch_3_train_0.688597_val_0.611354.pt\"\n",
    "net = torch.load(net_path, weights_only=False)"
   ]
  },
  {
   "cell_type": "code",
   "execution_count": null,
   "metadata": {
    "id": "NUG30lo2gRse"
   },
   "outputs": [],
   "source": [
    "def eval_loop(dataloader, net, loss_fn):\n",
    "\n",
    "    running_loss = 0.0\n",
    "    total_loss = 0.0\n",
    "    current = 0\n",
    "    net.eval()\n",
    "    target = []\n",
    "    predict = []\n",
    "    with torch.no_grad():\n",
    "        with tqdm(dataloader) as t:\n",
    "            for batch, (X, y) in enumerate(t):\n",
    "                X = X.to(device)\n",
    "                y = y.to(device)\n",
    "                y_pred = net(X)\n",
    "                target.append(y.detach())\n",
    "                predict.append(y_pred.detach())\n",
    "                loss = loss_fn(y_pred, y.long())\n",
    "\n",
    "                running_loss = (len(X) * loss.item() + running_loss * current) / (\n",
    "                    len(X) + current\n",
    "                )\n",
    "                current += len(X)\n",
    "                t.set_postfix({\"running_loss\": running_loss})\n",
    "\n",
    "    return total_loss, torch.cat(predict), torch.cat(target)"
   ]
  },
  {
   "cell_type": "code",
   "execution_count": null,
   "metadata": {
    "id": "_LtJBlLrgRsf",
    "outputId": "5855f22f-bf92-4a91-9484-59283113ec3c"
   },
   "outputs": [],
   "source": [
    "loss_fn = nn.CrossEntropyLoss()\n",
    "test_loss, y_pred, y_target = eval_loop(test_dataloader, net, loss_fn)\n",
    "\n",
    "predict_logit = (torch.nn.Softmax(dim=1)(y_pred)[:, 1]).cpu().numpy()"
   ]
  },
  {
   "cell_type": "code",
   "execution_count": null,
   "metadata": {
    "id": "F8AYz1VngRsf",
    "outputId": "eb555011-bddf-4e4d-bdda-1331ab9be472"
   },
   "outputs": [],
   "source": [
    "# Calculate the percentage of target predicted above 0.5\n",
    "predictions = (predict_logit > 0.5).sum()\n",
    "total = len(predict_logit)\n",
    "accuracy = (predictions / total) * 100\n",
    "\n",
    "print(f\"Test Accuracy: {accuracy:.2f}%\")"
   ]
  },
  {
   "cell_type": "code",
   "execution_count": null,
   "metadata": {
    "id": "0mQPTgv_gRsf",
    "outputId": "2f954a17-44db-418a-cb98-ad3cba22cf5c"
   },
   "outputs": [],
   "source": [
    "# Convert predictions to binary\n",
    "binary_predictions = (predict_logit > 0.5).astype(int)\n",
    "binary_targets = y_target.cpu().numpy()\n",
    "\n",
    "# Calculate F1 score, recall, and precision\n",
    "f1 = f1_score(binary_targets, binary_predictions)\n",
    "recall = recall_score(binary_targets, binary_predictions)\n",
    "precision = precision_score(binary_targets, binary_predictions)\n",
    "\n",
    "print(f\"F1 Score: {f1:.2f}\")\n",
    "print(f\"Recall: {recall:.2f}\")\n",
    "print(f\"Precision: {precision:.2f}\")"
   ]
  },
  {
   "cell_type": "code",
   "execution_count": null,
   "metadata": {
    "id": "6ZTkzDaYgRsf",
    "outputId": "36dbb4b8-8fc5-4edb-a706-44f3b253040d"
   },
   "outputs": [],
   "source": [
    "# Generate confusion matrix\n",
    "conf_matrix = confusion_matrix(binary_targets, binary_predictions)\n",
    "\n",
    "# Plot confusion matrix\n",
    "plt.figure(figsize=(10, 7))\n",
    "sns.heatmap(\n",
    "    conf_matrix,\n",
    "    annot=True,\n",
    "    fmt=\"d\",\n",
    "    cmap=\"Blues\",\n",
    "    xticklabels=[\"Predicted Negative\", \"Predicted Positive\"],\n",
    "    yticklabels=[\"Actual Negative\", \"Actual Positive\"],\n",
    ")\n",
    "plt.xlabel(\"Predicted\")\n",
    "plt.ylabel(\"Actual\")\n",
    "plt.title(\"Confusion Matrix\")\n",
    "plt.show()"
   ]
  },
  {
   "cell_type": "markdown",
   "metadata": {
    "id": "CH6dA-e0Ch-y"
   },
   "source": [
    "### Testing with Different Parameter Tuning"
   ]
  },
  {
   "cell_type": "code",
   "execution_count": null,
   "metadata": {
    "id": "529PXMNeC0_T"
   },
   "outputs": [],
   "source": [
    "def build_net(kernel_size=(5, 3), negative_slope=(0.1, 0.01)):\n",
    "    class Net(nn.Module):\n",
    "        def __init__(self):\n",
    "            super().__init__()\n",
    "            self.layer1 = nn.Sequential(\n",
    "                nn.Conv2d(1, 64, kernel_size=kernel_size, stride=(3, 1), dilation=(2, 1), padding=(12, 1)),\n",
    "                nn.BatchNorm2d(64),\n",
    "                nn.LeakyReLU(negative_slope=negative_slope[0], inplace=True),\n",
    "                nn.MaxPool2d((2, 1), stride=(2, 1)),\n",
    "            )\n",
    "            self.layer2 = nn.Sequential(\n",
    "                nn.Conv2d(64, 128, kernel_size=kernel_size, stride=(3, 1), dilation=(2, 1), padding=(12, 1)),\n",
    "                nn.BatchNorm2d(128),\n",
    "                nn.LeakyReLU(negative_slope=negative_slope[1], inplace=True),\n",
    "                nn.MaxPool2d((2, 1), stride=(2, 1)),\n",
    "            )\n",
    "            self.layer3 = nn.Sequential(\n",
    "                nn.Conv2d(128, 256, kernel_size=kernel_size, stride=(3, 1), dilation=(2, 1), padding=(12, 1)),\n",
    "                nn.BatchNorm2d(256),\n",
    "                nn.LeakyReLU(negative_slope=negative_slope[1], inplace=True),\n",
    "                nn.MaxPool2d((2, 1), stride=(2, 1)),\n",
    "            )\n",
    "            self.fc1 = nn.Sequential(\n",
    "                nn.Dropout(p=0.5),\n",
    "                nn.Linear(46080, 2),\n",
    "            )\n",
    "            self.softmax = nn.Softmax(dim=1)\n",
    "\n",
    "        def forward(self, x):\n",
    "            x = x.reshape(-1, 1, 64, 60)\n",
    "            x = self.layer1(x)\n",
    "            x = self.layer2(x)\n",
    "            x = self.layer3(x)\n",
    "            x = x.reshape(-1, 46080)\n",
    "            x = self.fc1(x)\n",
    "            x = self.softmax(x)\n",
    "            return x\n",
    "    return Net()"
   ]
  },
  {
   "cell_type": "markdown",
   "metadata": {
    "id": "B2crg7luBPW6"
   },
   "source": [
    "### Loopocre Configuration for Testing Models"
   ]
  },
  {
   "cell_type": "code",
   "execution_count": null,
   "metadata": {
    "id": "NcVZdOwAgRsf"
   },
   "outputs": [],
   "source": [
    "model_configs = {\n",
    "    \"larger_kernel\": {\"kernel_size\": (7, 5), \"negative_slope\": (0.1, 0.01)},\n",
    "    \"smaller_kernel\": {\"kernel_size\": (3, 3), \"negative_slope\": (0.1, 0.01)},\n",
    "    \"increased_slope\": {\"kernel_size\": (5, 3), \"negative_slope\": (0.1, 0.05)},\n",
    "    \"decreased_slope\": {\"kernel_size\": (5, 3), \"negative_slope\": (0.1, 0.005)},\n",
    "}"
   ]
  },
  {
   "cell_type": "markdown",
   "metadata": {
    "id": "q7v7Ejf4ClpK"
   },
   "source": [
    "### Training Loop Configuration"
   ]
  },
  {
   "cell_type": "code",
   "execution_count": null,
   "metadata": {
    "id": "7NvpeWrDC-3T"
   },
   "outputs": [],
   "source": [
    "def train_and_evaluate(config_name, config, train_loader, val_loader, test_loader):\n",
    "    net = build_net(config[\"kernel_size\"], config[\"negative_slope\"]).to(device)\n",
    "    net.apply(init_weights)\n",
    "\n",
    "    if use_gpu and use_dataparallel and \"DataParallel\" not in str(type(net)):\n",
    "        net = nn.DataParallel(net)\n",
    "\n",
    "    optimizer = torch.optim.Adam(net.parameters(), lr=1e-5)\n",
    "    loss_fn = nn.CrossEntropyLoss()\n",
    "\n",
    "    # Setup paths\n",
    "    timestamp = datetime.datetime.now().strftime(\"%Y%m%d_%H%M%S\")\n",
    "    directory = f\"./pt/{timestamp}_{config_name}\"\n",
    "    os.makedirs(directory, exist_ok=True)\n",
    "\n",
    "    # Training\n",
    "    train_losses, val_losses = [], []\n",
    "    min_val_loss = float(\"inf\")\n",
    "    last_min_ind = 0\n",
    "\n",
    "    for epoch in range(epochs):\n",
    "        print(f\"[{config_name}] Epoch {epoch}\")\n",
    "        train_loss = train_loop(train_loader, net, loss_fn, optimizer)\n",
    "        val_loss = val_loop(val_loader, net, loss_fn)\n",
    "        train_losses.append(train_loss)\n",
    "        val_losses.append(val_loss)\n",
    "\n",
    "        # Save model\n",
    "        model_path = f\"{directory}/epoch_{epoch}_train_{train_loss:.4f}_val_{val_loss:.4f}.pt\"\n",
    "        torch.save(net, model_path)\n",
    "\n",
    "        if val_loss < min_val_loss:\n",
    "            min_val_loss = val_loss\n",
    "            last_min_ind = epoch\n",
    "            best_model_path = model_path\n",
    "        elif epoch - last_min_ind >= early_stopping_epoch:\n",
    "            break\n",
    "\n",
    "    # Plot Loss\n",
    "    plt.figure(figsize=(10, 6))\n",
    "    plt.plot(train_losses, label=\"Train\")\n",
    "    plt.plot(val_losses, label=\"Validation\")\n",
    "    plt.legend()\n",
    "    plt.title(f\"Loss Curve - {config_name}\")\n",
    "    plt.savefig(f\"{directory}/loss_curve.png\")\n",
    "    plt.close()\n",
    "\n",
    "    # Load best model\n",
    "    best_model = torch.load(best_model_path)\n",
    "\n",
    "    # Test Evaluation\n",
    "    test_loss, y_pred, y_target = eval_loop(test_loader, best_model, loss_fn)\n",
    "    predict_logit = torch.nn.Softmax(dim=1)(y_pred)[:, 1].cpu().numpy()\n",
    "    binary_predictions = (predict_logit > 0.5).astype(int)\n",
    "    binary_targets = y_target.cpu().numpy()\n",
    "\n",
    "    # Metrics\n",
    "    f1 = f1_score(binary_targets, binary_predictions)\n",
    "    recall = recall_score(binary_targets, binary_predictions)\n",
    "    precision = precision_score(binary_targets, binary_predictions)\n",
    "    accuracy = (binary_predictions == binary_targets).mean()\n",
    "\n",
    "    print(f\"[{config_name}] Test Accuracy: {accuracy:.2%}, F1: {f1:.2f}, Recall: {recall:.2f}, Precision: {precision:.2f}\")\n",
    "\n",
    "    return {\n",
    "        \"config\": config_name,\n",
    "        \"accuracy\": accuracy,\n",
    "        \"f1\": f1,\n",
    "        \"recall\": recall,\n",
    "        \"precision\": precision,\n",
    "        \"loss_curve_path\": f\"{directory}/loss_curve.png\",\n",
    "        \"model_path\": best_model_path,\n",
    "    }"
   ]
  }
 ],
 "metadata": {
  "colab": {
   "provenance": []
  },
  "kernelspec": {
   "display_name": ".venv",
   "language": "python",
   "name": "python3"
  },
  "language_info": {
   "codemirror_mode": {
    "name": "ipython",
    "version": 3
   },
   "file_extension": ".py",
   "mimetype": "text/x-python",
   "name": "python",
   "nbconvert_exporter": "python",
   "pygments_lexer": "ipython3",
   "version": "3.12.9"
  }
 },
 "nbformat": 4,
 "nbformat_minor": 0
}
