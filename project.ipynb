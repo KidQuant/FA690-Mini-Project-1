{
 "cells": [
  {
   "cell_type": "code",
   "execution_count": 1,
   "metadata": {},
   "outputs": [],
   "source": [
    "import numpy as np\n",
    "import pandas as pd\n",
    "import os.path as op\n",
    "import os\n",
    "from os import walk\n",
    "import datetime\n",
    "import time\n",
    "\n",
    "import matplotlib.pyplot as plt\n",
    "import torch\n",
    "import torch.nn as nn\n",
    "from torch.utils.data import Dataset\n",
    "from torch.utils.data import DataLoader\n",
    "from torch.utils.data import random_split\n",
    "from tqdm import tqdm\n",
    "from torch.utils.tensorboard import SummaryWriter\n",
    "\n",
    "torch.manual_seed(42)\n",
    "tb = SummaryWriter()\n",
    "\n",
    "os.environ[\"CUDA_VISIBLE_DEVICES\"] = \"0\"\n",
    "\n",
    "IMAGE_WIDTH = {5: 15, 20: 60, 60: 180}\n",
    "IMAGE_HEIGHT = {5: 32, 20: 64, 60: 96}"
   ]
  },
  {
   "cell_type": "code",
   "execution_count": 2,
   "metadata": {},
   "outputs": [],
   "source": [
    "year = 2017\n",
    "images = np.memmap(\n",
    "    op.join(\"./monthly_20d\", f\"20d_month_has_vb_[20]_ma_{year}_images.dat\"),\n",
    "    dtype=np.uint8,\n",
    "    mode=\"r\",\n",
    ").reshape((-1, IMAGE_HEIGHT[20], IMAGE_WIDTH[20]))"
   ]
  },
  {
   "cell_type": "code",
   "execution_count": 3,
   "metadata": {},
   "outputs": [
    {
     "data": {
      "text/html": [
       "<div>\n",
       "<style scoped>\n",
       "    .dataframe tbody tr th:only-of-type {\n",
       "        vertical-align: middle;\n",
       "    }\n",
       "\n",
       "    .dataframe tbody tr th {\n",
       "        vertical-align: top;\n",
       "    }\n",
       "\n",
       "    .dataframe thead th {\n",
       "        text-align: right;\n",
       "    }\n",
       "</style>\n",
       "<table border=\"1\" class=\"dataframe\">\n",
       "  <thead>\n",
       "    <tr style=\"text-align: right;\">\n",
       "      <th></th>\n",
       "      <th>Date</th>\n",
       "      <th>StockID</th>\n",
       "      <th>MarketCap</th>\n",
       "      <th>Ret_5d</th>\n",
       "      <th>Ret_20d</th>\n",
       "      <th>Ret_60d</th>\n",
       "      <th>Ret_month</th>\n",
       "      <th>EWMA_vol</th>\n",
       "    </tr>\n",
       "  </thead>\n",
       "  <tbody>\n",
       "    <tr>\n",
       "      <th>0</th>\n",
       "      <td>2017-01-31</td>\n",
       "      <td>10001</td>\n",
       "      <td>133078.0</td>\n",
       "      <td>4.370390e-07</td>\n",
       "      <td>-0.000002</td>\n",
       "      <td>-0.005954</td>\n",
       "      <td>-0.000002</td>\n",
       "      <td>0.000450</td>\n",
       "    </tr>\n",
       "    <tr>\n",
       "      <th>1</th>\n",
       "      <td>2017-02-28</td>\n",
       "      <td>10001</td>\n",
       "      <td>133078.0</td>\n",
       "      <td>3.951997e-03</td>\n",
       "      <td>0.002795</td>\n",
       "      <td>0.009953</td>\n",
       "      <td>0.009953</td>\n",
       "      <td>0.000180</td>\n",
       "    </tr>\n",
       "    <tr>\n",
       "      <th>2</th>\n",
       "      <td>2017-03-31</td>\n",
       "      <td>10001</td>\n",
       "      <td>133604.0</td>\n",
       "      <td>-7.874612e-03</td>\n",
       "      <td>-0.015749</td>\n",
       "      <td>0.021723</td>\n",
       "      <td>-0.015749</td>\n",
       "      <td>0.000064</td>\n",
       "    </tr>\n",
       "    <tr>\n",
       "      <th>3</th>\n",
       "      <td>2017-04-28</td>\n",
       "      <td>10001</td>\n",
       "      <td>131500.0</td>\n",
       "      <td>9.999880e-03</td>\n",
       "      <td>0.016001</td>\n",
       "      <td>0.038072</td>\n",
       "      <td>0.016001</td>\n",
       "      <td>0.000030</td>\n",
       "    </tr>\n",
       "    <tr>\n",
       "      <th>4</th>\n",
       "      <td>2017-05-31</td>\n",
       "      <td>10001</td>\n",
       "      <td>133604.0</td>\n",
       "      <td>4.370390e-07</td>\n",
       "      <td>0.021722</td>\n",
       "      <td>NaN</td>\n",
       "      <td>0.023703</td>\n",
       "      <td>0.000015</td>\n",
       "    </tr>\n",
       "  </tbody>\n",
       "</table>\n",
       "</div>"
      ],
      "text/plain": [
       "        Date StockID  MarketCap        Ret_5d   Ret_20d   Ret_60d  Ret_month  \\\n",
       "0 2017-01-31   10001   133078.0  4.370390e-07 -0.000002 -0.005954  -0.000002   \n",
       "1 2017-02-28   10001   133078.0  3.951997e-03  0.002795  0.009953   0.009953   \n",
       "2 2017-03-31   10001   133604.0 -7.874612e-03 -0.015749  0.021723  -0.015749   \n",
       "3 2017-04-28   10001   131500.0  9.999880e-03  0.016001  0.038072   0.016001   \n",
       "4 2017-05-31   10001   133604.0  4.370390e-07  0.021722       NaN   0.023703   \n",
       "\n",
       "   EWMA_vol  \n",
       "0  0.000450  \n",
       "1  0.000180  \n",
       "2  0.000064  \n",
       "3  0.000030  \n",
       "4  0.000015  "
      ]
     },
     "execution_count": 3,
     "metadata": {},
     "output_type": "execute_result"
    }
   ],
   "source": [
    "label_df = pd.read_feather(\n",
    "    op.join(\"./monthly_20d\", f\"20d_month_has_vb_[20]_ma_{year}_labels_w_delay.feather\")\n",
    ")\n",
    "assert len(label_df) == len(images)\n",
    "label_df.head()"
   ]
  },
  {
   "cell_type": "code",
   "execution_count": 4,
   "metadata": {},
   "outputs": [],
   "source": [
    "class Net(nn.Module):\n",
    "    def __init__(self):\n",
    "        super().__init__()\n",
    "        self.layer1 = nn.Sequential(\n",
    "            nn.Conv2d(\n",
    "                1,\n",
    "                64,\n",
    "                kernel_size=(5, 3),\n",
    "                stride=(3, 1),\n",
    "                dilation=(2, 1),\n",
    "                padding=(12, 1),\n",
    "            ),\n",
    "            nn.BatchNorm2d(64),\n",
    "            nn.LeakyReLU(negative_slope=0.1, inplace=True),\n",
    "            nn.MaxPool2d((2, 1), stride=(2, 1)),\n",
    "        )\n",
    "        self.layer2 = nn.Sequential(\n",
    "            nn.Conv2d(\n",
    "                64,\n",
    "                128,\n",
    "                kernel_size=(5, 3),\n",
    "                stride=(3, 1),\n",
    "                dilation=(2, 1),\n",
    "                padding=(12, 1),\n",
    "            ),\n",
    "            nn.BatchNorm2d(128),\n",
    "            nn.LeakyReLU(negative_slope=0.01, inplace=True),\n",
    "            nn.MaxPool2d((2, 1), stride=(2, 1)),\n",
    "        )\n",
    "        self.layer3 = nn.Sequential(\n",
    "            nn.Conv2d(\n",
    "                128,\n",
    "                256,\n",
    "                kernel_size=(5, 3),\n",
    "                stride=(3, 1),\n",
    "                dilation=(2, 1),\n",
    "                padding=(12, 1),\n",
    "            ),\n",
    "            nn.BatchNorm2d(256),\n",
    "            nn.LeakyReLU(negative_slope=0.01, inplace=True),\n",
    "            nn.MaxPool2d((2, 1), stride=(2, 1)),\n",
    "        )\n",
    "        self.fc1 = nn.Sequential(\n",
    "            nn.Dropout(p=0.5),\n",
    "            nn.Linear(46080, 2),\n",
    "        )\n",
    "        self.softmax = nn.Softmax(dim=1)\n",
    "\n",
    "    def forward(self, x):\n",
    "        x = x.reshape(-1, 1, 64, 60)\n",
    "        x = self.layer1(x)\n",
    "        x = self.layer2(x)\n",
    "        x = self.layer3(x)\n",
    "        x = x.reshape(-1, 46080)\n",
    "        x = self.fc1(x)\n",
    "        x = self.softmax(x)\n",
    "        return x"
   ]
  },
  {
   "cell_type": "code",
   "execution_count": 5,
   "metadata": {},
   "outputs": [],
   "source": [
    "x = torch.Tensor(images[42].copy())\n",
    "x = x.reshape(-1, 1, 64, 60)\n",
    "x.requires_grad = True\n",
    "baseline = torch.zeros_like(x)"
   ]
  },
  {
   "cell_type": "code",
   "execution_count": 6,
   "metadata": {},
   "outputs": [
    {
     "name": "stdout",
     "output_type": "stream",
     "text": [
      "0\n"
     ]
    },
    {
     "data": {
      "image/png": "[encoded data removed]",
      "text/plain": [
       "<Figure size 640x480 with 1 Axes>"
      ]
     },
     "metadata": {},
     "output_type": "display_data"
    },
    {
     "name": "stdout",
     "output_type": "stream",
     "text": [
      "1\n"
     ]
    },
    {
     "data": {
      "image/png": "[encoded data removed]",
      "text/plain": [
       "<Figure size 640x480 with 1 Axes>"
      ]
     },
     "metadata": {},
     "output_type": "display_data"
    },
    {
     "name": "stdout",
     "output_type": "stream",
     "text": [
      "2\n"
     ]
    },
    {
     "data": {
      "image/png": "[encoded data removed]",
      "text/plain": [
       "<Figure size 640x480 with 1 Axes>"
      ]
     },
     "metadata": {},
     "output_type": "display_data"
    },
    {
     "name": "stdout",
     "output_type": "stream",
     "text": [
      "3\n"
     ]
    },
    {
     "data": {
      "image/png": "[encoded data removed]",
      "text/plain": [
       "<Figure size 640x480 with 1 Axes>"
      ]
     },
     "metadata": {},
     "output_type": "display_data"
    },
    {
     "name": "stdout",
     "output_type": "stream",
     "text": [
      "4\n"
     ]
    },
    {
     "data": {
      "image/png": "[encoded data removed]",
      "text/plain": [
       "<Figure size 640x480 with 1 Axes>"
      ]
     },
     "metadata": {},
     "output_type": "display_data"
    }
   ],
   "source": [
    "import matplotlib.pyplot as plt\n",
    "\n",
    "for i in range(5):\n",
    "    print(i)\n",
    "    plt.imshow(images[i], cmap=\"gray\")\n",
    "    plt.show()"
   ]
  },
  {
   "cell_type": "code",
   "execution_count": 7,
   "metadata": {},
   "outputs": [
    {
     "data": {
      "text/html": [
       "<div>\n",
       "<style scoped>\n",
       "    .dataframe tbody tr th:only-of-type {\n",
       "        vertical-align: middle;\n",
       "    }\n",
       "\n",
       "    .dataframe tbody tr th {\n",
       "        vertical-align: top;\n",
       "    }\n",
       "\n",
       "    .dataframe thead th {\n",
       "        text-align: right;\n",
       "    }\n",
       "</style>\n",
       "<table border=\"1\" class=\"dataframe\">\n",
       "  <thead>\n",
       "    <tr style=\"text-align: right;\">\n",
       "      <th></th>\n",
       "      <th>Date</th>\n",
       "      <th>StockID</th>\n",
       "      <th>MarketCap</th>\n",
       "      <th>Ret_5d</th>\n",
       "      <th>Ret_20d</th>\n",
       "      <th>Ret_60d</th>\n",
       "      <th>Ret_month</th>\n",
       "      <th>EWMA_vol</th>\n",
       "    </tr>\n",
       "  </thead>\n",
       "  <tbody>\n",
       "    <tr>\n",
       "      <th>0</th>\n",
       "      <td>2017-01-31</td>\n",
       "      <td>10001</td>\n",
       "      <td>133078.0</td>\n",
       "      <td>4.370390e-07</td>\n",
       "      <td>-0.000002</td>\n",
       "      <td>-0.005954</td>\n",
       "      <td>-0.000002</td>\n",
       "      <td>0.000450</td>\n",
       "    </tr>\n",
       "    <tr>\n",
       "      <th>1</th>\n",
       "      <td>2017-02-28</td>\n",
       "      <td>10001</td>\n",
       "      <td>133078.0</td>\n",
       "      <td>3.951997e-03</td>\n",
       "      <td>0.002795</td>\n",
       "      <td>0.009953</td>\n",
       "      <td>0.009953</td>\n",
       "      <td>0.000180</td>\n",
       "    </tr>\n",
       "    <tr>\n",
       "      <th>2</th>\n",
       "      <td>2017-03-31</td>\n",
       "      <td>10001</td>\n",
       "      <td>133604.0</td>\n",
       "      <td>-7.874612e-03</td>\n",
       "      <td>-0.015749</td>\n",
       "      <td>0.021723</td>\n",
       "      <td>-0.015749</td>\n",
       "      <td>0.000064</td>\n",
       "    </tr>\n",
       "    <tr>\n",
       "      <th>3</th>\n",
       "      <td>2017-04-28</td>\n",
       "      <td>10001</td>\n",
       "      <td>131500.0</td>\n",
       "      <td>9.999880e-03</td>\n",
       "      <td>0.016001</td>\n",
       "      <td>0.038072</td>\n",
       "      <td>0.016001</td>\n",
       "      <td>0.000030</td>\n",
       "    </tr>\n",
       "    <tr>\n",
       "      <th>4</th>\n",
       "      <td>2017-05-31</td>\n",
       "      <td>10001</td>\n",
       "      <td>133604.0</td>\n",
       "      <td>4.370390e-07</td>\n",
       "      <td>0.021722</td>\n",
       "      <td>NaN</td>\n",
       "      <td>0.023703</td>\n",
       "      <td>0.000015</td>\n",
       "    </tr>\n",
       "  </tbody>\n",
       "</table>\n",
       "</div>"
      ],
      "text/plain": [
       "        Date StockID  MarketCap        Ret_5d   Ret_20d   Ret_60d  Ret_month  \\\n",
       "0 2017-01-31   10001   133078.0  4.370390e-07 -0.000002 -0.005954  -0.000002   \n",
       "1 2017-02-28   10001   133078.0  3.951997e-03  0.002795  0.009953   0.009953   \n",
       "2 2017-03-31   10001   133604.0 -7.874612e-03 -0.015749  0.021723  -0.015749   \n",
       "3 2017-04-28   10001   131500.0  9.999880e-03  0.016001  0.038072   0.016001   \n",
       "4 2017-05-31   10001   133604.0  4.370390e-07  0.021722       NaN   0.023703   \n",
       "\n",
       "   EWMA_vol  \n",
       "0  0.000450  \n",
       "1  0.000180  \n",
       "2  0.000064  \n",
       "3  0.000030  \n",
       "4  0.000015  "
      ]
     },
     "execution_count": 7,
     "metadata": {},
     "output_type": "execute_result"
    }
   ],
   "source": [
    "label_df.head()"
   ]
  },
  {
   "cell_type": "code",
   "execution_count": 8,
   "metadata": {},
   "outputs": [
    {
     "name": "stdout",
     "output_type": "stream",
     "text": [
      "(1787748, 64, 60)\n",
      "(1787748, 8)\n"
     ]
    }
   ],
   "source": [
    "year_list = np.arange(1993, 2014, 1)\n",
    "\n",
    "images = []\n",
    "label_df = []\n",
    "for year in year_list:\n",
    "    images.append(\n",
    "        np.memmap(\n",
    "            op.join(\"./monthly_20d\", f\"20d_month_has_vb_[20]_ma_{year}_images.dat\"),\n",
    "            dtype=np.uint8,\n",
    "            mode=\"r\",\n",
    "        ).reshape((-1, IMAGE_HEIGHT[20], IMAGE_WIDTH[20]))\n",
    "    )\n",
    "    label_df.append(\n",
    "        pd.read_feather(\n",
    "            op.join(\n",
    "                \"./monthly_20d\",\n",
    "                f\"20d_month_has_vb_[20]_ma_{year}_labels_w_delay.feather\",\n",
    "            )\n",
    "        )\n",
    "    )\n",
    "\n",
    "images = np.concatenate(images)\n",
    "label_df = pd.concat(label_df)\n",
    "\n",
    "print(images.shape)\n",
    "print(label_df.shape)"
   ]
  },
  {
   "cell_type": "code",
   "execution_count": 9,
   "metadata": {},
   "outputs": [],
   "source": [
    "class MyDataset(Dataset):\n",
    "\n",
    "    def __init__(self, img, label):\n",
    "        self.img = torch.Tensor(img.copy())\n",
    "        self.label = torch.Tensor(label)\n",
    "        self.len = len(img)\n",
    "\n",
    "    def __len__(self):\n",
    "        return self.len\n",
    "\n",
    "    def __getitem__(self, idx):\n",
    "        return self.img[idx], self.label[idx]"
   ]
  },
  {
   "cell_type": "code",
   "execution_count": 10,
   "metadata": {},
   "outputs": [],
   "source": [
    "use_gpu = True\n",
    "use_random_split = False\n",
    "use_dataparallel = True\n",
    "\n",
    "if not use_random_split:\n",
    "    train_val_ratio = 0.7\n",
    "    split_idx = int(images.shape[0] * 0.7)\n",
    "    train_dataset = MyDataset(\n",
    "        images[:split_idx], (label_df.Ret_5d > 0).values[:split_idx]\n",
    "    )\n",
    "    val_dataset = MyDataset(\n",
    "        images[split_idx:], (label_df.Ret_5d > 0).values[split_idx:]\n",
    "    )\n",
    "else:\n",
    "    dataset = MyDataset(images, (label_df.Ret_5d > 0).values)\n",
    "    train_val_ratio = 0.7\n",
    "    train_dataset, val_dataset = random_split(\n",
    "        dataset,\n",
    "        [\n",
    "            int(dataset.len * train_val_ratio),\n",
    "            dataset.len - int(dataset.len * train_val_ratio),\n",
    "        ],\n",
    "        generator=torch.Generator().manual_seed(42),\n",
    "    )\n",
    "    del dataset\n",
    "\n",
    "train_dataloader = DataLoader(\n",
    "    train_dataset, batch_size=128, shuffle=True, pin_memory=True\n",
    ")\n",
    "val_dataloader = DataLoader(val_dataset, batch_size=128, shuffle=True, pin_memory=True)"
   ]
  },
  {
   "cell_type": "code",
   "execution_count": 11,
   "metadata": {},
   "outputs": [],
   "source": [
    "def init_weights(m):\n",
    "    if isinstance(m, nn.Linear):\n",
    "        torch.nn.init.xavier_uniform_(m.weight)\n",
    "        m.bias.data.fill_(0.0)\n",
    "    elif isinstance(m, nn.Conv2d):\n",
    "        torch.nn.init.xavier_uniform_(m.weight)"
   ]
  },
  {
   "cell_type": "code",
   "execution_count": 12,
   "metadata": {},
   "outputs": [],
   "source": [
    "device = \"cuda\" if use_gpu else \"cpu\"\n",
    "export_onnx = True\n",
    "net = Net().to(device)\n",
    "net.apply(init_weights)\n",
    "\n",
    "if export_onnx:\n",
    "    import torch.onnx\n",
    "\n",
    "    x = torch.randn([1, 1, 64, 60]).to(device)\n",
    "    torch.onnx.export(\n",
    "        net,  \n",
    "        x,  \n",
    "        \"./cnn_baseline.onnx\",  \n",
    "        export_params=False,  \n",
    "        opset_version=10,  \n",
    "        do_constant_folding=False,  \n",
    "        input_names=[\"input_images\"],  \n",
    "        output_names=[\"output_prob\"],  \n",
    "        dynamic_axes={\n",
    "            \"input_images\": {0: \"batch_size\"},  \n",
    "            \"output_prob\": {0: \"batch_size\"},\n",
    "        },\n",
    "    )"
   ]
  },
  {
   "cell_type": "code",
   "execution_count": 13,
   "metadata": {},
   "outputs": [
    {
     "name": "stdout",
     "output_type": "stream",
     "text": [
      "layer1.0.weight torch.Size([64, 1, 5, 3])\n",
      "layer1.0.bias torch.Size([64])\n",
      "layer1.1.weight torch.Size([64])\n",
      "layer1.1.bias torch.Size([64])\n",
      "layer2.0.weight torch.Size([128, 64, 5, 3])\n",
      "layer2.0.bias torch.Size([128])\n",
      "layer2.1.weight torch.Size([128])\n",
      "layer2.1.bias torch.Size([128])\n",
      "layer3.0.weight torch.Size([256, 128, 5, 3])\n",
      "layer3.0.bias torch.Size([256])\n",
      "layer3.1.weight torch.Size([256])\n",
      "layer3.1.bias torch.Size([256])\n",
      "fc1.1.weight torch.Size([2, 46080])\n",
      "fc1.1.bias torch.Size([2])\n",
      "total_parameters: 708866\n"
     ]
    }
   ],
   "source": [
    "count = 0\n",
    "for names, parameters in net.named_parameters():\n",
    "    print(names, parameters.size())\n",
    "    count += parameters.numel()\n",
    "print(\"total_parameters: {}\".format(count))"
   ]
  },
  {
   "cell_type": "code",
   "execution_count": 14,
   "metadata": {},
   "outputs": [],
   "source": [
    "def train_loop(dataloader, net, loss_fn, optimizer):\n",
    "\n",
    "    running_loss = 0.0\n",
    "    current = 0\n",
    "    net.train()\n",
    "\n",
    "    with tqdm(dataloader) as t:\n",
    "        for batch, (X, y) in enumerate(t):\n",
    "            X = X.to(device)\n",
    "            y = y.to(device)\n",
    "            y_pred = net(X)\n",
    "            loss = loss_fn(y_pred, y.long())\n",
    "\n",
    "            optimizer.zero_grad()\n",
    "            loss.backward()\n",
    "            optimizer.step()\n",
    "\n",
    "            running_loss = (len(X) * loss.item() + running_loss * current) / (\n",
    "                len(X) + current\n",
    "            )\n",
    "            current += len(X)\n",
    "            t.set_postfix({\"running_loss\": running_loss})\n",
    "\n",
    "    return running_loss"
   ]
  },
  {
   "cell_type": "code",
   "execution_count": 15,
   "metadata": {},
   "outputs": [],
   "source": [
    "def val_loop(dataloader, net, loss_fn):\n",
    "    running_loss = 0.0\n",
    "    current = 0\n",
    "    net.eval()\n",
    "\n",
    "    with torch.no_grad():\n",
    "        with tqdm(dataloader) as t:\n",
    "            for batch, (X, y) in enumerate(t):\n",
    "                X = X.to(device)\n",
    "                y = y.to(device)\n",
    "                y_pred = net(X)\n",
    "                loss = loss_fn(y_pred, y.long())\n",
    "\n",
    "                running_loss += loss.item()\n",
    "                running_loss = (len(X) * running_loss + loss.item() * current) / (\n",
    "                    len(X) + current\n",
    "                )\n",
    "                current += len(X)\n",
    "                t.set_postfix({\"running_loss\": running_loss})\n",
    "\n",
    "    return running_loss"
   ]
  },
  {
   "cell_type": "code",
   "execution_count": 16,
   "metadata": {},
   "outputs": [],
   "source": [
    "if use_gpu and use_dataparallel and \"DataParallel\" not in str(type(net)):\n",
    "    net = net.to(device)\n",
    "    net = nn.DataParallel(net)"
   ]
  },
  {
   "cell_type": "code",
   "execution_count": 17,
   "metadata": {},
   "outputs": [],
   "source": [
    "loss_fn = nn.CrossEntropyLoss()\n",
    "optimizer = torch.optim.Adam(net.parameters(), lr=1e-5)\n",
    "\n",
    "start_epoch = 0\n",
    "min_val_loss = 1e9\n",
    "last_min_ind = -1\n",
    "early_stopping_epoch = 5"
   ]
  },
  {
   "cell_type": "code",
   "execution_count": 18,
   "metadata": {},
   "outputs": [
    {
     "name": "stdout",
     "output_type": "stream",
     "text": [
      "Epoch 0\n",
      "-------------------------------\n"
     ]
    },
    {
     "name": "stderr",
     "output_type": "stream",
     "text": [
      "100%|██████████| 9777/9777 [01:57<00:00, 83.23it/s, running_loss=0.723]\n",
      "100%|██████████| 4191/4191 [00:21<00:00, 195.66it/s, running_loss=0.661]\n"
     ]
    },
    {
     "name": "stdout",
     "output_type": "stream",
     "text": [
      "Epoch 1\n",
      "-------------------------------\n"
     ]
    },
    {
     "name": "stderr",
     "output_type": "stream",
     "text": [
      "100%|██████████| 9777/9777 [01:55<00:00, 84.44it/s, running_loss=0.702]\n",
      "100%|██████████| 4191/4191 [00:20<00:00, 201.20it/s, running_loss=0.653]\n"
     ]
    },
    {
     "name": "stdout",
     "output_type": "stream",
     "text": [
      "Epoch 2\n",
      "-------------------------------\n"
     ]
    },
    {
     "name": "stderr",
     "output_type": "stream",
     "text": [
      "100%|██████████| 9777/9777 [01:55<00:00, 84.84it/s, running_loss=0.694]\n",
      "100%|██████████| 4191/4191 [00:20<00:00, 200.21it/s, running_loss=0.733]\n"
     ]
    },
    {
     "name": "stdout",
     "output_type": "stream",
     "text": [
      "Epoch 3\n",
      "-------------------------------\n"
     ]
    },
    {
     "name": "stderr",
     "output_type": "stream",
     "text": [
      "100%|██████████| 9777/9777 [01:54<00:00, 85.27it/s, running_loss=0.689]\n",
      "100%|██████████| 4191/4191 [00:21<00:00, 199.51it/s, running_loss=0.611]\n"
     ]
    },
    {
     "name": "stdout",
     "output_type": "stream",
     "text": [
      "Epoch 4\n",
      "-------------------------------\n"
     ]
    },
    {
     "name": "stderr",
     "output_type": "stream",
     "text": [
      "100%|██████████| 9777/9777 [01:55<00:00, 84.75it/s, running_loss=0.685]\n",
      "100%|██████████| 4191/4191 [00:21<00:00, 199.19it/s, running_loss=0.71] \n"
     ]
    },
    {
     "name": "stdout",
     "output_type": "stream",
     "text": [
      "Epoch 5\n",
      "-------------------------------\n"
     ]
    },
    {
     "name": "stderr",
     "output_type": "stream",
     "text": [
      "100%|██████████| 9777/9777 [01:55<00:00, 84.69it/s, running_loss=0.683]\n",
      "100%|██████████| 4191/4191 [00:20<00:00, 202.39it/s, running_loss=0.698]\n"
     ]
    },
    {
     "name": "stdout",
     "output_type": "stream",
     "text": [
      "Epoch 6\n",
      "-------------------------------\n"
     ]
    },
    {
     "name": "stderr",
     "output_type": "stream",
     "text": [
      "100%|██████████| 9777/9777 [01:56<00:00, 84.05it/s, running_loss=0.681]\n",
      "100%|██████████| 4191/4191 [00:20<00:00, 201.36it/s, running_loss=0.811]\n"
     ]
    },
    {
     "name": "stdout",
     "output_type": "stream",
     "text": [
      "Epoch 7\n",
      "-------------------------------\n"
     ]
    },
    {
     "name": "stderr",
     "output_type": "stream",
     "text": [
      "100%|██████████| 9777/9777 [01:54<00:00, 85.60it/s, running_loss=0.679]\n",
      "100%|██████████| 4191/4191 [00:20<00:00, 203.12it/s, running_loss=0.818]\n"
     ]
    },
    {
     "name": "stdout",
     "output_type": "stream",
     "text": [
      "Epoch 8\n",
      "-------------------------------\n"
     ]
    },
    {
     "name": "stderr",
     "output_type": "stream",
     "text": [
      "100%|██████████| 9777/9777 [01:56<00:00, 83.61it/s, running_loss=0.678]\n",
      "100%|██████████| 4191/4191 [00:21<00:00, 199.11it/s, running_loss=0.831]\n"
     ]
    },
    {
     "name": "stdout",
     "output_type": "stream",
     "text": [
      "Done!\n",
      "Best epoch: 3, val_loss: 0.611354069716394\n"
     ]
    },
    {
     "data": {
      "image/png": "[encoded data removed]",
      "text/plain": [
       "<Figure size 1000x600 with 1 Axes>"
      ]
     },
     "metadata": {},
     "output_type": "display_data"
    }
   ],
   "source": [
    "train_losses = []\n",
    "val_losses = []\n",
    "\n",
    "start_time = datetime.datetime.now().strftime(\"%Y%m%d_%H:%M:%S\")\n",
    "directory_path = \"./pt/{}\".format(start_time.replace(\":\", \"-\"))\n",
    "os.makedirs(directory_path)\n",
    "\n",
    "epochs = 100\n",
    "for t in range(start_epoch, epochs):\n",
    "    print(f\"Epoch {t}\\n-------------------------------\")\n",
    "    time.sleep(0.2)\n",
    "    train_loss = train_loop(train_dataloader, net, loss_fn, optimizer)\n",
    "    val_loss = val_loop(val_dataloader, net, loss_fn)\n",
    "\n",
    "    # Append the losses to our tracking list\n",
    "    train_losses.append(train_loss)\n",
    "    val_losses.append(val_loss)\n",
    "\n",
    "    tb.add_histogram(\"train_loss\", train_loss, t)\n",
    "    torch.save(\n",
    "        net,\n",
    "        \"./pt\"\n",
    "        + os.sep\n",
    "        + start_time.replace(\":\", \"-\")\n",
    "        + os.sep\n",
    "        + \"baseline_epoch_{}_train_{:5f}_val_{:5f}.pt\".format(t, train_loss, val_loss),\n",
    "    )\n",
    "    if val_loss < min_val_loss:\n",
    "        last_min_ind = t\n",
    "        min_val_loss = val_loss\n",
    "        min_val_loss_path = './pt/{}'.format(start_time.replace(\":\", \"-\"))\n",
    "    elif t - last_min_ind >= early_stopping_epoch:\n",
    "        break\n",
    "\n",
    "print(\"Done!\")\n",
    "print(\"Best epoch: {}, val_loss: {}\".format(last_min_ind, min_val_loss))\n",
    "\n",
    "# Add this after the training loop to create the visualization\n",
    "plt.figure(figsize=(10, 6))\n",
    "plt.plot(range(len(train_losses)), train_losses, label='Training Loss')\n",
    "plt.plot(range(len(val_losses)), val_losses, label='Validation Loss')\n",
    "plt.xlabel('Epochs')\n",
    "plt.ylabel('Loss')\n",
    "plt.title('Training and Validation Loss Over Time')\n",
    "plt.legend()\n",
    "plt.grid(True)\n",
    "plt.savefig(f\"{directory_path}/loss_curve.png\")  # Save the figure to the same directory as model checkpoints\n",
    "plt.show()"
   ]
  },
  {
   "cell_type": "markdown",
   "metadata": {},
   "source": [
    "## Testing"
   ]
  },
  {
   "cell_type": "code",
   "execution_count": null,
   "metadata": {},
   "outputs": [],
   "source": [
    "year_list = np.arange(2015, 2019, 1)\n",
    "\n",
    "images = []\n",
    "label_df = []\n",
    "\n",
    "for year in year_list:\n",
    "    images.append(\n",
    "        np.memmap(\n",
    "            op.join(\"./monthly_20d\", f\"20d_month_has_vb_[20]_ma_{year}_images.dat\"),\n",
    "            dtype=np.uint8,\n",
    "            mode=\"r\",\n",
    "        ).reshape((-1, IMAGE_HEIGHT[20], IMAGE_WIDTH[20]))\n",
    "    )\n",
    "    label_df.append(\n",
    "        pd.read_feather(\n",
    "            op.join(\n",
    "                \"./monthly_20d\",\n",
    "                f\"20d_month_has_vb_[20]_ma_{year}_labels_w_delay.feather\",\n",
    "            )\n",
    "        )\n",
    "    )\n",
    "\n",
    "images = np.concatenate(images)\n",
    "label_df = pd.concat(label_df)\n",
    "\n",
    "print(images.shape)\n",
    "print(label_df.shape)"
   ]
  },
  {
   "cell_type": "code",
   "execution_count": 19,
   "metadata": {},
   "outputs": [],
   "source": [
    "dataset = MyDataset(images, (label_df.Ret_5d > 0).values)\n",
    "test_dataloader = DataLoader(dataset, batch_size=2048, shuffle=False)"
   ]
  },
  {
   "cell_type": "code",
   "execution_count": 20,
   "metadata": {},
   "outputs": [],
   "source": [
    "net_path = 'pt/20250320_23-47-53/baseline_epoch_3_train_0.688597_val_0.611354.pt'\n",
    "net = torch.load(net_path, weights_only=False)\n"
   ]
  },
  {
   "cell_type": "code",
   "execution_count": 21,
   "metadata": {},
   "outputs": [],
   "source": [
    "def eval_loop(dataloader, net, loss_fn):\n",
    "    \n",
    "    running_loss = 0.0\n",
    "    total_loss = 0.0\n",
    "    current = 0\n",
    "    net.eval()\n",
    "    target = []\n",
    "    predict = []\n",
    "    with torch.no_grad():\n",
    "        with tqdm(dataloader) as t:\n",
    "            for batch, (X, y) in enumerate(t):\n",
    "                X = X.to(device)\n",
    "                y = y.to(device)\n",
    "                y_pred = net(X)\n",
    "                target.append(y.detach())\n",
    "                predict.append(y_pred.detach())\n",
    "                loss = loss_fn(y_pred, y.long())\n",
    "                \n",
    "                running_loss = (len(X) * loss.item() + running_loss * current) / (len(X) + current)\n",
    "                current += len(X)\n",
    "                t.set_postfix({'running_loss':running_loss})\n",
    "            \n",
    "    return total_loss, torch.cat(predict), torch.cat(target)\n"
   ]
  },
  {
   "cell_type": "code",
   "execution_count": null,
   "metadata": {},
   "outputs": [],
   "source": [
    "loss_fn = nn.CrossEntropyLoss()\n",
    "test_loss, y_pred, y_target = eval_loop(test_dataloader, net, loss_fn)\n",
    "\n",
    "predict_logit = (torch.nn.Softmax(dim=1)(y_pred)[:,1]).cpu().numpy()"
   ]
  },
  {
   "cell_type": "code",
   "execution_count": null,
   "metadata": {},
   "outputs": [],
   "source": [
    "# Calculate the percentage of target predicted above 0.5\n",
    "predictions = (predict_logit > 0.5).sum()\n",
    "total = len(predict_logit)\n",
    "accuracy = (predictions / total) * 100\n",
    "\n",
    "print(f\"Test Accuracy: {accuracy:.2f}%\")\n"
   ]
  },
  {
   "cell_type": "code",
   "execution_count": null,
   "metadata": {},
   "outputs": [],
   "source": [
    "from sklearn.metrics import f1_score, recall_score, precision_score\n",
    "\n",
    "# Convert predictions to binary\n",
    "binary_predictions = (predict_logit > 0.5).astype(int)\n",
    "binary_targets = y_target.cpu().numpy()\n",
    "\n",
    "# Calculate F1 score, recall, and precision\n",
    "f1 = f1_score(binary_targets, binary_predictions)\n",
    "recall = recall_score(binary_targets, binary_predictions)\n",
    "precision = precision_score(binary_targets, binary_predictions)\n",
    "\n",
    "print(f\"F1 Score: {f1:.2f}\")\n",
    "print(f\"Recall: {recall:.2f}\")\n",
    "print(f\"Precision: {precision:.2f}\")\n"
   ]
  },
  {
   "cell_type": "code",
   "execution_count": null,
   "metadata": {},
   "outputs": [],
   "source": []
  }
 ],
 "metadata": {
  "kernelspec": {
   "display_name": "statclass",
   "language": "python",
   "name": "python3"
  },
  "language_info": {
   "codemirror_mode": {
    "name": "ipython",
    "version": 3
   },
   "file_extension": ".py",
   "mimetype": "text/x-python",
   "name": "python",
   "nbconvert_exporter": "python",
   "pygments_lexer": "ipython3",
   "version": "3.11.7"
  }
 },
 "nbformat": 4,
 "nbformat_minor": 2
}
